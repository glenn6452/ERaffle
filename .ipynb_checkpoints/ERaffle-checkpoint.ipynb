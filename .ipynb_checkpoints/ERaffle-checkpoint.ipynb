{
 "cells": [
  {
   "cell_type": "code",
   "execution_count": 1,
   "metadata": {},
   "outputs": [],
   "source": [
    "import numpy as np\n",
    "import pandas as pd"
   ]
  },
  {
   "cell_type": "code",
   "execution_count": 302,
   "metadata": {},
   "outputs": [],
   "source": [
    "df = pd.read_csv('sample.csv')"
   ]
  },
  {
   "cell_type": "code",
   "execution_count": 307,
   "metadata": {},
   "outputs": [],
   "source": [
    "# Declartion of the Dataset per RDS POS\n",
    "\n",
    "RDS00001=df.loc[df['pos_code']=='RDS00001']\n",
    "RDS00002=df.loc[df['pos_code']=='RDS00002']\n",
    "RDS00003=df.loc[df['pos_code']=='RDS00003']\n",
    "RDS00004=df.loc[df['pos_code']=='RDS00004']\n",
    "RDS00005=df.loc[df['pos_code']=='RDS00005']\n",
    "RDS00006=df.loc[df['pos_code']=='RDS00006']\n",
    "RDS00007=df.loc[df['pos_code']=='RDS00007']\n",
    "RDS00008=df.loc[df['pos_code']=='RDS00008']\n",
    "RDS00009=df.loc[df['pos_code']=='RDS00009']\n",
    "RDS00010=df.loc[df['pos_code']=='RDS00010']\n",
    "RDS00011=df.loc[df['pos_code']=='RDS00011']\n",
    "RDS00012=df.loc[df['pos_code']=='RDS00012']\n",
    "RDS00013=df.loc[df['pos_code']=='RDS00013']\n",
    "RDS00014=df.loc[df['pos_code']=='RDS00014']\n",
    "RDS00015=df.loc[df['pos_code']=='RDS00015']\n",
    "RDS00016=df.loc[df['pos_code']=='RDS00016']"
   ]
  },
  {
   "cell_type": "code",
   "execution_count": 306,
   "metadata": {},
   "outputs": [
    {
     "data": {
      "text/html": [
       "<div>\n",
       "<style scoped>\n",
       "    .dataframe tbody tr th:only-of-type {\n",
       "        vertical-align: middle;\n",
       "    }\n",
       "\n",
       "    .dataframe tbody tr th {\n",
       "        vertical-align: top;\n",
       "    }\n",
       "\n",
       "    .dataframe thead th {\n",
       "        text-align: right;\n",
       "    }\n",
       "</style>\n",
       "<table border=\"1\" class=\"dataframe\">\n",
       "  <thead>\n",
       "    <tr style=\"text-align: right;\">\n",
       "      <th></th>\n",
       "      <th>accountId</th>\n",
       "      <th>client_name</th>\n",
       "      <th>date_applied</th>\n",
       "      <th>orderNo</th>\n",
       "      <th>billAmount</th>\n",
       "      <th>ticket_type</th>\n",
       "      <th>pos_name</th>\n",
       "      <th>pos_code</th>\n",
       "      <th>ticket_code</th>\n",
       "    </tr>\n",
       "  </thead>\n",
       "  <tbody>\n",
       "    <tr>\n",
       "      <th>0</th>\n",
       "      <td>1325808</td>\n",
       "      <td>Mark Ranier Bernabe Agunoy</td>\n",
       "      <td>2019-05-28</td>\n",
       "      <td>B190528124241746</td>\n",
       "      <td>3000.0</td>\n",
       "      <td>B2S</td>\n",
       "      <td>Robinsons Department Store - Lipa</td>\n",
       "      <td>RDS00002</td>\n",
       "      <td>B190528124241746-1</td>\n",
       "    </tr>\n",
       "    <tr>\n",
       "      <th>2</th>\n",
       "      <td>1340221</td>\n",
       "      <td>Shiela Marie Catapat Banaag</td>\n",
       "      <td>2019-05-29</td>\n",
       "      <td>B190529124245075</td>\n",
       "      <td>2500.0</td>\n",
       "      <td>B2S</td>\n",
       "      <td>Robinsons Department Store - Lipa</td>\n",
       "      <td>RDS00002</td>\n",
       "      <td>B190529124245075-1</td>\n",
       "    </tr>\n",
       "  </tbody>\n",
       "</table>\n",
       "</div>"
      ],
      "text/plain": [
       "   accountId                  client_name date_applied           orderNo  \\\n",
       "0    1325808  Mark Ranier Bernabe Agunoy    2019-05-28  B190528124241746   \n",
       "2    1340221  Shiela Marie Catapat Banaag   2019-05-29  B190529124245075   \n",
       "\n",
       "   billAmount ticket_type                           pos_name  pos_code  \\\n",
       "0      3000.0         B2S  Robinsons Department Store - Lipa  RDS00002   \n",
       "2      2500.0         B2S  Robinsons Department Store - Lipa  RDS00002   \n",
       "\n",
       "          ticket_code  \n",
       "0  B190528124241746-1  \n",
       "2  B190529124245075-1  "
      ]
     },
     "execution_count": 306,
     "metadata": {},
     "output_type": "execute_result"
    }
   ],
   "source": []
  },
  {
   "cell_type": "code",
   "execution_count": 130,
   "metadata": {},
   "outputs": [
    {
     "data": {
      "text/plain": [
       "0    B190528124241746-1\n",
       "1    B190529124245075-1\n",
       "2    B190529124247400-1\n",
       "3    B190529124247400-2\n",
       "4    B190529124247400-3\n",
       "5    B190529124247400-4\n",
       "Name: ticket_code, dtype: object"
      ]
     },
     "execution_count": 130,
     "metadata": {},
     "output_type": "execute_result"
    }
   ],
   "source": [
    "df.ticket_code"
   ]
  },
  {
   "cell_type": "code",
   "execution_count": 295,
   "metadata": {},
   "outputs": [
    {
     "data": {
      "text/plain": [
       "6"
      ]
     },
     "execution_count": 295,
     "metadata": {},
     "output_type": "execute_result"
    }
   ],
   "source": [
    "len(df)"
   ]
  },
  {
   "cell_type": "code",
   "execution_count": 300,
   "metadata": {},
   "outputs": [],
   "source": [
    "arr = df.ticket_code\n",
    "# winners below will never contain repeated ticket_code (replace=False)\n",
    "winners = np.random.choice(arr, 2, replace=False)"
   ]
  },
  {
   "cell_type": "code",
   "execution_count": 301,
   "metadata": {},
   "outputs": [
    {
     "data": {
      "text/html": [
       "<div>\n",
       "<style scoped>\n",
       "    .dataframe tbody tr th:only-of-type {\n",
       "        vertical-align: middle;\n",
       "    }\n",
       "\n",
       "    .dataframe tbody tr th {\n",
       "        vertical-align: top;\n",
       "    }\n",
       "\n",
       "    .dataframe thead th {\n",
       "        text-align: right;\n",
       "    }\n",
       "</style>\n",
       "<table border=\"1\" class=\"dataframe\">\n",
       "  <thead>\n",
       "    <tr style=\"text-align: right;\">\n",
       "      <th></th>\n",
       "      <th>accountId</th>\n",
       "      <th>client_name</th>\n",
       "      <th>date_applied</th>\n",
       "      <th>orderNo</th>\n",
       "      <th>billAmount</th>\n",
       "      <th>ticket_type</th>\n",
       "      <th>pos_name</th>\n",
       "      <th>ticket_code</th>\n",
       "    </tr>\n",
       "  </thead>\n",
       "  <tbody>\n",
       "    <tr>\n",
       "      <th>0</th>\n",
       "      <td>1325808</td>\n",
       "      <td>Mark Ranier Bernabe Agunoy</td>\n",
       "      <td>2019-05-28</td>\n",
       "      <td>B190528124241746</td>\n",
       "      <td>3000.0</td>\n",
       "      <td>B2S</td>\n",
       "      <td>Robinsons Department Store - Lipa</td>\n",
       "      <td>B190528124241746-1</td>\n",
       "    </tr>\n",
       "    <tr>\n",
       "      <th>2</th>\n",
       "      <td>188745</td>\n",
       "      <td>Anna Marie Faller Pinlac</td>\n",
       "      <td>2019-05-29</td>\n",
       "      <td>B190529124247400</td>\n",
       "      <td>11000.0</td>\n",
       "      <td>B2S</td>\n",
       "      <td>Robinsons Department Store - Cloverleaf</td>\n",
       "      <td>B190529124247400-1</td>\n",
       "    </tr>\n",
       "  </tbody>\n",
       "</table>\n",
       "</div>"
      ],
      "text/plain": [
       "   accountId                  client_name date_applied           orderNo  \\\n",
       "0    1325808  Mark Ranier Bernabe Agunoy    2019-05-28  B190528124241746   \n",
       "2     188745     Anna Marie Faller Pinlac   2019-05-29  B190529124247400   \n",
       "\n",
       "   billAmount ticket_type                                 pos_name  \\\n",
       "0      3000.0         B2S        Robinsons Department Store - Lipa   \n",
       "2     11000.0         B2S  Robinsons Department Store - Cloverleaf   \n",
       "\n",
       "          ticket_code  \n",
       "0  B190528124241746-1  \n",
       "2  B190529124247400-1  "
      ]
     },
     "execution_count": 301,
     "metadata": {},
     "output_type": "execute_result"
    }
   ],
   "source": [
    "df.loc[df['ticket_code'].isin(numbers)]\n"
   ]
  },
  {
   "cell_type": "code",
   "execution_count": 298,
   "metadata": {},
   "outputs": [
    {
     "data": {
      "text/plain": [
       "'B190528124241746-1'"
      ]
     },
     "execution_count": 298,
     "metadata": {},
     "output_type": "execute_result"
    }
   ],
   "source": [
    "numbers[0]"
   ]
  },
  {
   "cell_type": "code",
   "execution_count": 299,
   "metadata": {},
   "outputs": [
    {
     "data": {
      "text/plain": [
       "array(['B190528124241746-1', 'B190529124247400-1'], dtype=object)"
      ]
     },
     "execution_count": 299,
     "metadata": {},
     "output_type": "execute_result"
    }
   ],
   "source": [
    "numbers"
   ]
  },
  {
   "cell_type": "code",
   "execution_count": null,
   "metadata": {},
   "outputs": [],
   "source": []
  }
 ],
 "metadata": {
  "kernelspec": {
   "display_name": "Python 3",
   "language": "python",
   "name": "python3"
  },
  "language_info": {
   "codemirror_mode": {
    "name": "ipython",
    "version": 3
   },
   "file_extension": ".py",
   "mimetype": "text/x-python",
   "name": "python",
   "nbconvert_exporter": "python",
   "pygments_lexer": "ipython3",
   "version": "3.7.3"
  }
 },
 "nbformat": 4,
 "nbformat_minor": 2
}
